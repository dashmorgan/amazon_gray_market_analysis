{
 "cells": [
  {
   "cell_type": "markdown",
   "metadata": {},
   "source": [
    "# Daria Morgan"
   ]
  },
  {
   "cell_type": "markdown",
   "metadata": {},
   "source": [
    "# Supplementary jupyter notebook with the code for ScatterText"
   ]
  },
  {
   "cell_type": "code",
   "execution_count": 1,
   "metadata": {},
   "outputs": [],
   "source": [
    "import pandas as pd\n",
    "import numpy as np"
   ]
  },
  {
   "cell_type": "code",
   "execution_count": 77,
   "metadata": {},
   "outputs": [],
   "source": [
    "from nltk.corpus import stopwords"
   ]
  },
  {
   "cell_type": "code",
   "execution_count": 2,
   "metadata": {},
   "outputs": [],
   "source": [
    "df = pd.read_pickle('counter_dataset')"
   ]
  },
  {
   "cell_type": "code",
   "execution_count": 5,
   "metadata": {},
   "outputs": [
    {
     "data": {
      "text/plain": [
       "array([\"Women's Shoes\", 'Hair Care', 'MakeUp', 'SkinCare',\n",
       "       \"Men's Clothing\", 'Headphones', \"Men's Watches\", \"Women's Watches\",\n",
       "       \"Women's Handbags\", \"Women's Clothing\", \"Men's Shoes\"],\n",
       "      dtype=object)"
      ]
     },
     "execution_count": 5,
     "metadata": {},
     "output_type": "execute_result"
    }
   ],
   "source": [
    "df['category'].unique()"
   ]
  },
  {
   "cell_type": "code",
   "execution_count": 7,
   "metadata": {},
   "outputs": [
    {
     "data": {
      "text/plain": [
       "array(['Birkenstock', 'TOMS', 'Converse', 'JIMMY CHOO',\n",
       "       'Polo Ralph Lauren', 'Diane von Furstenberg', 'New', 'ASICS',\n",
       "       'Timberland', 'NIKE', 'adidas', 'Vans', 'Reebok', 'PUMA', 'Cole',\n",
       "       'Pumas', 'Lauren by Ralph Lauren', 'Stuart', 'BALLY',\n",
       "       'Ralph Lauren Polo'], dtype=object)"
      ]
     },
     "execution_count": 7,
     "metadata": {},
     "output_type": "execute_result"
    }
   ],
   "source": [
    "df[df['category'] == \"Women's Shoes\"]['brand'].unique()"
   ]
  },
  {
   "cell_type": "code",
   "execution_count": 63,
   "metadata": {},
   "outputs": [],
   "source": [
    "# filter DataFrame for TOMS and Birkenstock\n",
    "\n",
    "df_toms_brst = df[df['brand'].isin(['TOMS', 'Birkenstock'])]"
   ]
  },
  {
   "cell_type": "code",
   "execution_count": 86,
   "metadata": {},
   "outputs": [],
   "source": [
    "# filter DataFrame for 3 star and below reviews\n",
    "\n",
    "df_toms_brst = df_toms_brst[df_toms_brst['rating'] < 4]"
   ]
  },
  {
   "cell_type": "code",
   "execution_count": 87,
   "metadata": {},
   "outputs": [],
   "source": [
    "df_toms_brst['brand_combination'] = 'TOMS and Birkenstock'"
   ]
  },
  {
   "cell_type": "code",
   "execution_count": 88,
   "metadata": {},
   "outputs": [],
   "source": [
    "# filter DataFrame for ASICS and New Balance\n",
    "\n",
    "df_ASICS_new = df[df['brand'].isin(['ASICS', 'New'])]"
   ]
  },
  {
   "cell_type": "code",
   "execution_count": 89,
   "metadata": {},
   "outputs": [],
   "source": [
    "# filter DataFrame for 3 star and below reviews\n",
    "\n",
    "df_ASICS_new = df_ASICS_new[df_ASICS_new['rating'] < 4]"
   ]
  },
  {
   "cell_type": "code",
   "execution_count": 90,
   "metadata": {},
   "outputs": [],
   "source": [
    "df_ASICS_new['brand_combination'] = 'ASICS and New Balance'"
   ]
  },
  {
   "cell_type": "code",
   "execution_count": 91,
   "metadata": {},
   "outputs": [],
   "source": [
    "df_all = pd.concat([df_toms_brst,df_ASICS_new])"
   ]
  },
  {
   "cell_type": "code",
   "execution_count": 92,
   "metadata": {},
   "outputs": [
    {
     "name": "stdout",
     "output_type": "stream",
     "text": [
      "<class 'pandas.core.frame.DataFrame'>\n",
      "Int64Index: 13293 entries, 5 to 359042\n",
      "Data columns (total 29 columns):\n",
      " #   Column                      Non-Null Count  Dtype  \n",
      "---  ------                      --------------  -----  \n",
      " 0   asin                        13293 non-null  object \n",
      " 1   review_post_id              13293 non-null  object \n",
      " 2   body                        13284 non-null  object \n",
      " 3   review_text                 13293 non-null  object \n",
      " 4   helpful_count               13293 non-null  int64  \n",
      " 5   num_images                  13293 non-null  int64  \n",
      " 6   rating                      13293 non-null  int64  \n",
      " 7   date_posted                 13293 non-null  object \n",
      " 8   is_verified_purchase        13293 non-null  bool   \n",
      " 9   is_vine_voice               13293 non-null  bool   \n",
      " 10  num_comments                13293 non-null  int64  \n",
      " 11  has_video                   13293 non-null  bool   \n",
      " 12  category                    13293 non-null  object \n",
      " 13  list_price                  0 non-null      float64\n",
      " 14  price_low                   13274 non-null  float64\n",
      " 15  price_high                  13274 non-null  float64\n",
      " 16  is_add_on                   13293 non-null  object \n",
      " 17  is_prime                    13293 non-null  object \n",
      " 18  is_prime_pantry             13293 non-null  object \n",
      " 19  is_prime_exclusive          13293 non-null  object \n",
      " 20  is_fresh                    13293 non-null  object \n",
      " 21  has_sns                     13293 non-null  object \n",
      " 22  offer_fulfiller             77 non-null     object \n",
      " 23  offer_merchant              77 non-null     object \n",
      " 24  lowest_price_new_condition  20 non-null     float64\n",
      " 25  brand                       13293 non-null  object \n",
      " 26  num_reviews                 13290 non-null  object \n",
      " 27  num_images_pdp              13293 non-null  object \n",
      " 28  brand_combination           13293 non-null  object \n",
      "dtypes: bool(3), float64(4), int64(4), object(18)\n",
      "memory usage: 2.8+ MB\n"
     ]
    }
   ],
   "source": [
    "df_all.info()"
   ]
  },
  {
   "cell_type": "code",
   "execution_count": 94,
   "metadata": {},
   "outputs": [],
   "source": [
    "df_all.dropna(subset=['body'], inplace=True)"
   ]
  },
  {
   "cell_type": "markdown",
   "metadata": {},
   "source": [
    "### ScatterText"
   ]
  },
  {
   "cell_type": "code",
   "execution_count": 95,
   "metadata": {},
   "outputs": [
    {
     "data": {
      "text/plain": [
       "Index(['asin', 'review_post_id', 'body', 'review_text', 'helpful_count',\n",
       "       'num_images', 'rating', 'date_posted', 'is_verified_purchase',\n",
       "       'is_vine_voice', 'num_comments', 'has_video', 'category', 'list_price',\n",
       "       'price_low', 'price_high', 'is_add_on', 'is_prime', 'is_prime_pantry',\n",
       "       'is_prime_exclusive', 'is_fresh', 'has_sns', 'offer_fulfiller',\n",
       "       'offer_merchant', 'lowest_price_new_condition', 'brand', 'num_reviews',\n",
       "       'num_images_pdp', 'brand_combination'],\n",
       "      dtype='object')"
      ]
     },
     "execution_count": 95,
     "metadata": {},
     "output_type": "execute_result"
    }
   ],
   "source": [
    "df_all.columns"
   ]
  },
  {
   "cell_type": "code",
   "execution_count": 96,
   "metadata": {},
   "outputs": [],
   "source": [
    "df_all = df_all.reset_index().drop(columns=['index'])"
   ]
  },
  {
   "cell_type": "code",
   "execution_count": 97,
   "metadata": {},
   "outputs": [],
   "source": [
    "import scattertext as st"
   ]
  },
  {
   "cell_type": "code",
   "execution_count": 98,
   "metadata": {},
   "outputs": [
    {
     "data": {
      "text/plain": [
       "ASICS and New Balance    12148\n",
       "TOMS and Birkenstock      1136\n",
       "Name: brand_combination, dtype: int64"
      ]
     },
     "execution_count": 98,
     "metadata": {},
     "output_type": "execute_result"
    }
   ],
   "source": [
    "df_all['brand_combination'].value_counts()"
   ]
  },
  {
   "cell_type": "code",
   "execution_count": 108,
   "metadata": {},
   "outputs": [],
   "source": [
    "from nltk.corpus import stopwords"
   ]
  },
  {
   "cell_type": "code",
   "execution_count": 15,
   "metadata": {},
   "outputs": [],
   "source": [
    "stop_words_ = stopwords.words('english')"
   ]
  },
  {
   "cell_type": "code",
   "execution_count": 117,
   "metadata": {},
   "outputs": [],
   "source": [
    "new_stop_words = ['birkenstock', 'birkenstocks', 'toms', 'asics', 42, '42', '4e', '2e', '80', 80, '22s',\n",
    "                  'gt', 'nimbus', '2000', 2000, 'e', 'v1', 'v2', '18s', 'ee', 'shoe', 'balance', 'new',\n",
    "                  'kayano', 'shoes', 'sneakers', 'like', 'made', 'tom', '#', 'xl', 'small', 39, '39',\n",
    "                  45, '45', 0, '0', '23', 23, 22, '22', 'kayanos', 'sandal', 'sandals', 'cumulus',\n",
    "                  'velcro', 'asic', 'nb', 'birks', 'cork', 'buckle', 'sneaker', '17', '16', '1st', 'v3']"
   ]
  },
  {
   "cell_type": "code",
   "execution_count": 118,
   "metadata": {},
   "outputs": [],
   "source": [
    "stop_words_.extend(new_stop_words)"
   ]
  },
  {
   "cell_type": "code",
   "execution_count": 119,
   "metadata": {},
   "outputs": [],
   "source": [
    "corpus = st.CorpusFromPandas(df_all,\n",
    "                             category_col='brand_combination',\n",
    "                             text_col='body',\n",
    "                             nlp=st.whitespace_nlp_with_sentences\n",
    "                            ).build().remove_terms(stop_words_, ignore_absences=True)"
   ]
  },
  {
   "cell_type": "code",
   "execution_count": 133,
   "metadata": {},
   "outputs": [],
   "source": [
    "html = st.produce_scattertext_explorer(\n",
    "        corpus,\n",
    "        category='TOMS and Birkenstock',\n",
    "        category_name='TOMS and Birkenstoc',\n",
    "        not_category_name='ASICS and New Balance',\n",
    "        minimum_term_frequency=10,\n",
    "        pmi_threshold_coefficient=5,\n",
    "        width_in_pixels=1000,\n",
    "        metadata=df_all['review_post_id'],\n",
    "        )\n",
    "\n",
    "\n",
    "open('ScatterText_Amazon_Ascics_Toms.html', 'wb').write(html.encode('utf-8'));"
   ]
  },
  {
   "cell_type": "markdown",
   "metadata": {},
   "source": [
    "# Word frequency within Toms & New Balance vs. BURBERRY,Coach, & LV"
   ]
  },
  {
   "cell_type": "markdown",
   "metadata": {},
   "source": [
    "Now I want to try to compare word frequencies between different categories among 1-3 star reviews to avoid category specific terms, e.g. buckle (Birkinstock sandals)"
   ]
  },
  {
   "cell_type": "code",
   "execution_count": 134,
   "metadata": {},
   "outputs": [],
   "source": [
    "# separate DataFrame for desired brands to compare and filter to sub 4 star review (not included)\n",
    "\n",
    "df_other_brands = df[(df['brand'].isin(['BURBERRY', 'Louis Vuitton', 'Coach', 'Anastasia']))&(df['rating']<4)]"
   ]
  },
  {
   "cell_type": "code",
   "execution_count": 137,
   "metadata": {},
   "outputs": [],
   "source": [
    "df_other_brands['brand_combination'] = 'BURBERRY and others'"
   ]
  },
  {
   "cell_type": "code",
   "execution_count": 160,
   "metadata": {},
   "outputs": [],
   "source": [
    "df_all_other = pd.concat([df_all,df_other_brands])"
   ]
  },
  {
   "cell_type": "code",
   "execution_count": 161,
   "metadata": {},
   "outputs": [],
   "source": [
    "df_all_other = df_all_other.reset_index().drop(columns=['index'])"
   ]
  },
  {
   "cell_type": "code",
   "execution_count": 162,
   "metadata": {},
   "outputs": [],
   "source": [
    "df_all_other.dropna(subset=['body'], inplace=True)"
   ]
  },
  {
   "cell_type": "code",
   "execution_count": 163,
   "metadata": {},
   "outputs": [],
   "source": [
    "# change value in 'brand_combination' that BURBERRY and Toms for 'Known grey market brands'\n",
    "\n",
    "df_all_other.loc[df_all_other['brand_combination'] == 'BURBERRY and others','brand_combination'] = 'Known grey market brands'"
   ]
  },
  {
   "cell_type": "code",
   "execution_count": 164,
   "metadata": {},
   "outputs": [],
   "source": [
    "df_all_other.loc[df_all_other['brand_combination'] == 'TOMS and Birkenstock','brand_combination'] = 'Known grey market brands'"
   ]
  },
  {
   "cell_type": "code",
   "execution_count": 165,
   "metadata": {},
   "outputs": [
    {
     "data": {
      "text/plain": [
       "array(['Known grey market brands', 'ASICS and New Balance'], dtype=object)"
      ]
     },
     "execution_count": 165,
     "metadata": {},
     "output_type": "execute_result"
    }
   ],
   "source": [
    "df_all_other['brand_combination'].unique()"
   ]
  },
  {
   "cell_type": "code",
   "execution_count": 135,
   "metadata": {},
   "outputs": [],
   "source": [
    "from nltk.corpus import stopwords"
   ]
  },
  {
   "cell_type": "code",
   "execution_count": 172,
   "metadata": {},
   "outputs": [],
   "source": [
    "stop_words_ = stopwords.words('english')"
   ]
  },
  {
   "cell_type": "code",
   "execution_count": 187,
   "metadata": {},
   "outputs": [],
   "source": [
    "new_stop_words_ = [0,'made','sephora','anastasia','22s','xl','small','burberry','kayanos','asic','beautiful',\n",
    "                   22,'shoe', 23,'cork','16','42','coach','17',39,'gt',42,'nimbus','tom',45,'22','v2','buckle',\n",
    "                   'palette','like','45','bag','80','sneakers','velcro','sneaker','v3','louis vuitton',\n",
    "                   'asics','e','2000','balance','4e','39','brush',80,2000,'kayano','birkenstock','23',\n",
    "                   'cumulus','birkenstocks','#','18s','0','sandals','shoes','1st','nb','2e','new',\n",
    "                   'nice','v1','toms','feet','sandal','ee','birks','purse','flip','thong','canvas','gold',\n",
    "                   'pigment','95',95,'shiny','ulta']"
   ]
  },
  {
   "cell_type": "code",
   "execution_count": 188,
   "metadata": {},
   "outputs": [],
   "source": [
    "stop_words_.extend(new_stop_words_)"
   ]
  },
  {
   "cell_type": "code",
   "execution_count": 189,
   "metadata": {},
   "outputs": [],
   "source": [
    "corpus = st.CorpusFromPandas(df_all_other,\n",
    "                             category_col='brand_combination',\n",
    "                             text_col='body',\n",
    "                             nlp=st.whitespace_nlp_with_sentences\n",
    "                            ).build().remove_terms(stop_words_, ignore_absences=True)"
   ]
  },
  {
   "cell_type": "code",
   "execution_count": 190,
   "metadata": {},
   "outputs": [],
   "source": [
    "html = st.produce_scattertext_explorer(\n",
    "        corpus,\n",
    "        category='Known grey market brands',\n",
    "        category_name='Known grey market brands',\n",
    "        not_category_name='ASICS and New Balance',\n",
    "        minimum_term_frequency=10,\n",
    "        pmi_threshold_coefficient=5,\n",
    "        width_in_pixels=1000,\n",
    "        metadata=df_all_other['review_post_id'],\n",
    "        )\n",
    "\n",
    "\n",
    "open('ScatterText_Amazon_other_brands.html', 'wb').write(html.encode('utf-8'));"
   ]
  },
  {
   "cell_type": "code",
   "execution_count": null,
   "metadata": {},
   "outputs": [],
   "source": []
  }
 ],
 "metadata": {
  "kernelspec": {
   "display_name": "Python 3",
   "language": "python",
   "name": "python3"
  },
  "language_info": {
   "codemirror_mode": {
    "name": "ipython",
    "version": 3
   },
   "file_extension": ".py",
   "mimetype": "text/x-python",
   "name": "python",
   "nbconvert_exporter": "python",
   "pygments_lexer": "ipython3",
   "version": "3.7.7"
  }
 },
 "nbformat": 4,
 "nbformat_minor": 4
}
